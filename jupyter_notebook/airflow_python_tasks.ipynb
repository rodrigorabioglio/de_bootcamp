{
 "cells": [
  {
   "cell_type": "code",
   "execution_count": 1,
   "id": "c10adf40",
   "metadata": {},
   "outputs": [],
   "source": [
    "import pandas as pd\n",
    "\n",
    "import pyarrow.csv as pv\n",
    "import pyarrow.parquet as pq\n",
    "from pyarrow import concat_tables\n",
    "\n",
    "from datetime import datetime, timedelta\n",
    "import os, re"
   ]
  },
  {
   "cell_type": "code",
   "execution_count": null,
   "id": "330de188",
   "metadata": {},
   "outputs": [],
   "source": [
    "! pip install requests"
   ]
  },
  {
   "cell_type": "code",
   "execution_count": 26,
   "id": "5cf532a0",
   "metadata": {},
   "outputs": [],
   "source": [
    "connect_dict = {\n",
    "        'user':'postgres',\n",
    "        'password':'postgres',\n",
    "        'host':'localhost',\n",
    "        'port':5432,\n",
    "        'dbname':'ny_taxi_data'}"
   ]
  },
  {
   "cell_type": "code",
   "execution_count": 27,
   "id": "20641fe1",
   "metadata": {},
   "outputs": [],
   "source": [
    "user = connect_dict['user'],\n",
    "password = connect_dict['password'],\n",
    "host = connect_dict['host'],\n",
    "port = connect_dict['port'],\n",
    "dbname = connect_dict['dbname']"
   ]
  },
  {
   "cell_type": "code",
   "execution_count": null,
   "id": "2b72ff14",
   "metadata": {},
   "outputs": [],
   "source": [
    "import requests\n",
    "import shutil"
   ]
  },
  {
   "cell_type": "code",
   "execution_count": null,
   "id": "03dc9746",
   "metadata": {},
   "outputs": [],
   "source": [
    "def download_files_and_unzip(url, path, filename='temp.zip', **context):\n",
    "    \n",
    "    election_round_code = ['051020221321','311020221535']\n",
    "    \n",
    "    state = execution_dict[context[ds]]\n",
    "    \n",
    "    for i,c in enumerate(election_round_code,1): \n",
    "        \n",
    "        url = 'https://cdn.tse.jus.br/estatistica/sead/eleicoes/eleicoes2022/buweb/bweb_{i}t_{state}_{election_roun_code}.zip'\n",
    "        r = requests.get(url)\n",
    "\n",
    "        if not path.endswith('/'):\n",
    "            path = path+'/'\n",
    "\n",
    "        with open(path+filename, 'wb') as f:\n",
    "            f.write(r.content)\n",
    "\n",
    "        shutil.unpack_archive(path+filename,path)\n",
    "\n",
    "        os.system(f'rm {path}*.pdf')"
   ]
  },
  {
   "cell_type": "code",
   "execution_count": null,
   "id": "c40c6097",
   "metadata": {},
   "outputs": [],
   "source": [
    "def csv_to_parquet(path, delimiter=';', encoding='Latin 1'):\n",
    "    parse_options = pv.ParseOptions(delimiter=delimiter)\n",
    "    read_options = pv.ReadOptions(encoding=encoding)\n",
    "    \n",
    "    if not path.endswith('/'):\n",
    "        path=path+'/'\n",
    "        \n",
    "    files = [f for f in os.listdir(path) if re.search(f'{state}_\\d+.csv', f)]\n",
    "    \n",
    "    list_tables = []\n",
    "    \n",
    "    for f in files:\n",
    "        tmp = pv.read_csv(\n",
    "        path+f,\n",
    "        read_options=read_options,\n",
    "        parse_options=parse_options\n",
    "        )\n",
    "        \n",
    "        list_tables.append(tmp)\n",
    "        \n",
    "        del tmp\n",
    "        \n",
    "    table = concat_tables(list_tables)\n",
    "\n",
    "    pq.write_table(table, path+'dois_turnos.parquet')"
   ]
  },
  {
   "cell_type": "code",
   "execution_count": null,
   "id": "8408ce00",
   "metadata": {},
   "outputs": [],
   "source": [
    "def prepare_data(filepath):\n",
    "    \n",
    "    cols = ['TS_GERACAO', 'NR_TURNO', 'SG_UF', 'CD_MUNICIPIO', 'NM_MUNICIPIO', 'NR_ZONA',\n",
    "       'NR_SECAO', 'NR_LOCAL_VOTACAO', 'CD_CARGO_PERGUNTA',\n",
    "       'DS_CARGO_PERGUNTA', 'NR_PARTIDO', 'SG_PARTIDO', 'NM_PARTIDO',\n",
    "       'DT_BU_RECEBIDO', 'QT_APTOS', 'QT_COMPARECIMENTO', 'QT_ABSTENCOES',\n",
    "       'CD_TIPO_URNA', 'DS_TIPO_URNA', 'CD_TIPO_VOTAVEL', 'DS_TIPO_VOTAVEL',\n",
    "       'NR_VOTAVEL', 'NM_VOTAVEL', 'QT_VOTOS',]\n",
    "    \n",
    "    df = pd.read_parquet(filepath)\n",
    "    \n",
    "    prepared = df.assign(\n",
    "        TS_GERACAO = lambda df: pd.to_datetime(df.DT_GERACAO + ' ' + df.HH_GERACAO.astype(str))\n",
    "        )\\\n",
    "        .drop(columns=['DT_GERACAO','HH_GERACAO'])\\\n",
    "        [cols]\n",
    "    \n",
    "    return prepared"
   ]
  },
  {
   "cell_type": "code",
   "execution_count": null,
   "id": "6bc03de8",
   "metadata": {},
   "outputs": [],
   "source": [
    "def write_prepared_df_to_parquet(df, path):\n",
    "    df.to_parquet(path)"
   ]
  },
  {
   "cell_type": "code",
   "execution_count": null,
   "id": "7e50caf7",
   "metadata": {},
   "outputs": [],
   "source": [
    "def connect_to_postgres(\n",
    "    user='postgres',\n",
    "    password = 'postgres',\n",
    "    host = 'localhost',\n",
    "    port = '5432',\n",
    "    dbname = 'ny_taxi_data'):\n",
    "    \n",
    "    engine = sqlalchemy.create_engine(f\"postgresql://{user}:{password}@{host}:{port}/{dbname}\")\n",
    "    \n",
    "    return engine"
   ]
  },
  {
   "cell_type": "code",
   "execution_count": null,
   "id": "fb3b4e66",
   "metadata": {},
   "outputs": [],
   "source": [
    "def upload_parquet_to_postgres(connection, filepath, table_name, if_exists='append', batch_size=10**5):\n",
    "    \n",
    "    df = pd.read_parquet(filepath)\n",
    "    \n",
    "    chunks = df.shape[0] // 10 ** 5 + 1\n",
    "    \n",
    "    i = 0\n",
    "    while i < chunks:\n",
    "        to_db = df.iloc[i * batch_size:(i + 1) * batch_size, :]\n",
    "        to_db.to_sql(table_name, con=connection, if_exists=if_exists)\n",
    "        print(f\"sent chunk number {i+1}\")\n",
    "        i = i + 1"
   ]
  }
 ],
 "metadata": {
  "kernelspec": {
   "display_name": "Python 3.8.10 ('rodrigo.rabioglio-4niXq0W2')",
   "language": "python",
   "name": "python3"
  },
  "language_info": {
   "codemirror_mode": {
    "name": "ipython",
    "version": 3
   },
   "file_extension": ".py",
   "mimetype": "text/x-python",
   "name": "python",
   "nbconvert_exporter": "python",
   "pygments_lexer": "ipython3",
   "version": "3.8.10"
  },
  "vscode": {
   "interpreter": {
    "hash": "817713e2867212578af7f25010abb24a3a102ffe2bff805785dfdebd8355ba96"
   }
  }
 },
 "nbformat": 4,
 "nbformat_minor": 5
}
