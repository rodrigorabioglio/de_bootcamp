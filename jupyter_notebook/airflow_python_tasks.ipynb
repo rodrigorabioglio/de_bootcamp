{
 "cells": [
  {
   "cell_type": "code",
   "execution_count": 38,
   "id": "c10adf40",
   "metadata": {},
   "outputs": [],
   "source": [
    "import pandas as pd\n",
    "\n",
    "import pyarrow.csv as pv\n",
    "import pyarrow.parquet as pq\n",
    "from pyarrow import concat_tables\n",
    "\n",
    "from datetime import datetime, timedelta\n",
    "import os, re"
   ]
  },
  {
   "cell_type": "code",
   "execution_count": 36,
   "id": "c40c6097",
   "metadata": {},
   "outputs": [],
   "source": [
    "def csv_to_parquet(path, delimiter=';', encoding='Latin 1'):\n",
    "    parse_options = pv.ParseOptions(delimiter=delimiter)\n",
    "    read_options = pv.ReadOptions(encoding=encoding)\n",
    "    \n",
    "    if not path.endswith('/'):\n",
    "        path=path+'/'\n",
    "        \n",
    "    files = [f for f in os.listdir(path) if re.search(f'{state}_\\d+.csv', f)]\n",
    "    \n",
    "    list_tables = []\n",
    "    \n",
    "    for f in files:\n",
    "        tmp = pv.read_csv(\n",
    "        path+f,\n",
    "        read_options=read_options,\n",
    "        parse_options=parse_options\n",
    "        )\n",
    "        \n",
    "        list_tables.append(tmp)\n",
    "        \n",
    "        del tmp\n",
    "        \n",
    "    table = concat_tables(list_tables)\n",
    "\n",
    "    pq.write_table(table, path+'dois_turnos.parquet')"
   ]
  },
  {
   "cell_type": "code",
   "execution_count": 40,
   "id": "8408ce00",
   "metadata": {},
   "outputs": [],
   "source": [
    "def prepare_data(filepath):\n",
    "    \n",
    "    cols = ['TS_GERACAO', 'NR_TURNO', 'SG_UF', 'CD_MUNICIPIO', 'NM_MUNICIPIO', 'NR_ZONA',\n",
    "       'NR_SECAO', 'NR_LOCAL_VOTACAO', 'CD_CARGO_PERGUNTA',\n",
    "       'DS_CARGO_PERGUNTA', 'NR_PARTIDO', 'SG_PARTIDO', 'NM_PARTIDO',\n",
    "       'DT_BU_RECEBIDO', 'QT_APTOS', 'QT_COMPARECIMENTO', 'QT_ABSTENCOES',\n",
    "       'CD_TIPO_URNA', 'DS_TIPO_URNA', 'CD_TIPO_VOTAVEL', 'DS_TIPO_VOTAVEL',\n",
    "       'NR_VOTAVEL', 'NM_VOTAVEL', 'QT_VOTOS',]\n",
    "    \n",
    "    df = pd.read_parquet(filepath)\n",
    "    \n",
    "    prepared = df.assign(\n",
    "        TS_GERACAO = lambda df: pd.to_datetime(df.DT_GERACAO + ' ' + df.HH_GERACAO.astype(str))\n",
    "        )\\\n",
    "        .drop(columns=['DT_GERACAO','HH_GERACAO'])\\\n",
    "        [cols]\n",
    "    \n",
    "    return prepared"
   ]
  },
  {
   "cell_type": "code",
   "execution_count": 90,
   "id": "6bc03de8",
   "metadata": {},
   "outputs": [],
   "source": [
    "def write_prepared_df_to_parquet(df, path):\n",
    "    df.to_parquet(path)"
   ]
  },
  {
   "cell_type": "code",
   "execution_count": 41,
   "id": "7e50caf7",
   "metadata": {},
   "outputs": [],
   "source": [
    "def connect_to_postgres(\n",
    "    user='postgres',\n",
    "    password = 'postgres',\n",
    "    host = 'localhost',\n",
    "    port = '5432',\n",
    "    dbname = 'ny_taxi_data'):\n",
    "    \n",
    "    engine = sqlalchemy.create_engine(f\"postgresql://{user}:{password}@{host}:{port}/{dbname}\")\n",
    "    \n",
    "    return engine"
   ]
  },
  {
   "cell_type": "code",
   "execution_count": 42,
   "id": "fb3b4e66",
   "metadata": {},
   "outputs": [],
   "source": [
    "def upload_parquet_to_postgres(connection, filepath, table_name, if_exists='append', batch_size=10**5):\n",
    "    \n",
    "    df = pd.read_parquet(filepath)\n",
    "    \n",
    "    chunks = df.shape[0] // 10 ** 5 + 1\n",
    "    \n",
    "    i = 0\n",
    "    while i < chunks:\n",
    "        to_db = df.iloc[i * batch_size:(i + 1) * batch_size, :]\n",
    "        to_db.to_sql(table_name, con=connection, if_exists=if_exists)\n",
    "        print(f\"sent chunk number {i+1}\")\n",
    "        i = i + 1"
   ]
  }
 ],
 "metadata": {
  "kernelspec": {
   "display_name": "Python 3 (ipykernel)",
   "language": "python",
   "name": "python3"
  },
  "language_info": {
   "codemirror_mode": {
    "name": "ipython",
    "version": 3
   },
   "file_extension": ".py",
   "mimetype": "text/x-python",
   "name": "python",
   "nbconvert_exporter": "python",
   "pygments_lexer": "ipython3",
   "version": "3.9.15"
  }
 },
 "nbformat": 4,
 "nbformat_minor": 5
}
